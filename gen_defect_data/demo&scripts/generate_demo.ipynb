{
 "cells": [
  {
   "cell_type": "markdown",
   "metadata": {},
   "source": [
    "Generate defect configurations, reasonable ones."
   ]
  },
  {
   "cell_type": "code",
   "execution_count": 31,
   "metadata": {},
   "outputs": [],
   "source": [
    "from pprint import pprint\n",
    "from pymatgen.analysis.local_env import CrystalNN\n",
    "from pymatgen.analysis.structure_prediction.dopant_predictor import (\n",
    "    get_dopants_from_shannon_radii,\n",
    "    get_dopants_from_substitution_probabilities\n",
    ")\n",
    "from pymatgen.ext.matproj import MPRester\n",
    "\n",
    "api_key = 'Yd2jih656GIoA2Ksfu57XrmOGh6seR2P'  # INSERT YOUR OWN API KEY\n",
    "mpr = MPRester(api_key=api_key)\n",
    "num_dopants = 5"
   ]
  },
  {
   "cell_type": "code",
   "execution_count": 32,
   "metadata": {},
   "outputs": [
    {
     "name": "stdout",
     "output_type": "stream",
     "text": [
      "20\n",
      "Species in structure: [Species Y3+, Species Te2-]\n"
     ]
    },
    {
     "name": "stderr",
     "output_type": "stream",
     "text": [
      "/home/vipandyc/miniconda3/envs/cava/lib/python3.10/site-packages/pymatgen/io/vasp/inputs.py:462: BadPoscarWarning: Ignoring selective dynamics tag, as no ionic degrees of freedom were fixed.\n",
      "  warnings.warn(\n"
     ]
    }
   ],
   "source": [
    "from pymatgen.io.vasp import Poscar\n",
    "import json\n",
    "\n",
    "with open('SM_dataset/Te3Y2_653174.json', 'r') as file:\n",
    "    data = json.load(file)\n",
    "    structure_string = data[\"Structure_rlx\"]\n",
    "\n",
    "# Preprocess the string to remove the first line\n",
    "structure_string = '\\n'+structure_string.split('\\n', 1)[1]\n",
    "\n",
    "# Use pymatgen to parse the structure\n",
    "poscar = Poscar.from_str(structure_string, read_velocities=False)\n",
    "# poscar.write_file('./POSCAR')\n",
    "structure = poscar.structure\n",
    "print(sum(poscar.natoms))\n",
    "\n",
    "# Add oxidation states (optional)\n",
    "structure.add_oxidation_state_by_guess()\n",
    "\n",
    "# Access species\n",
    "species = structure.composition.elements\n",
    "\n",
    "print(\"Species in structure:\", species)"
   ]
  },
  {
   "cell_type": "code",
   "execution_count": 33,
   "metadata": {},
   "outputs": [
    {
     "name": "stdout",
     "output_type": "stream",
     "text": [
      "{'n_type': [{'dopant_species': Species Ce4+,\n",
      "             'original_species': Species Y3+,\n",
      "             'radii_diff': -0.030000000000000027},\n",
      "            {'dopant_species': Species Po4+,\n",
      "             'original_species': Species Y3+,\n",
      "             'radii_diff': 0.039999999999999925},\n",
      "            {'dopant_species': Species Th4+,\n",
      "             'original_species': Species Y3+,\n",
      "             'radii_diff': 0.039999999999999925},\n",
      "            {'dopant_species': Species Pu4+,\n",
      "             'original_species': Species Y3+,\n",
      "             'radii_diff': -0.040000000000000036},\n",
      "            {'dopant_species': Species I5+,\n",
      "             'original_species': Species Y3+,\n",
      "             'radii_diff': 0.04999999999999993}],\n",
      " 'p_type': [{'dopant_species': Species Pd2+,\n",
      "             'original_species': Species Y3+,\n",
      "             'radii_diff': -0.040000000000000036},\n",
      "            {'dopant_species': Species Cd2+,\n",
      "             'original_species': Species Y3+,\n",
      "             'radii_diff': 0.04999999999999993},\n",
      "            {'dopant_species': Species Ca2+,\n",
      "             'original_species': Species Y3+,\n",
      "             'radii_diff': 0.09999999999999998},\n",
      "            {'dopant_species': Species Pt2+,\n",
      "             'original_species': Species Y3+,\n",
      "             'radii_diff': -0.09999999999999998},\n",
      "            {'dopant_species': Species Na+,\n",
      "             'original_species': Species Y3+,\n",
      "             'radii_diff': 0.12}]}\n"
     ]
    },
    {
     "name": "stderr",
     "output_type": "stream",
     "text": [
      "/home/vipandyc/miniconda3/envs/cava/lib/python3.10/site-packages/pymatgen/analysis/structure_prediction/dopant_predictor.py:104: UserWarning: Shannon radius not found for Te2- with coordination number 4.\n",
      "Skipping...\n",
      "  warnings.warn(f\"Shannon radius not found for {species} with coordination number {cn}.\\nSkipping...\")\n"
     ]
    }
   ],
   "source": [
    "cnn = CrystalNN()\n",
    "bonded_structure = cnn.get_bonded_structure(structure)\n",
    "\n",
    "dopants = get_dopants_from_shannon_radii(bonded_structure, num_dopants=num_dopants)\n",
    "\n",
    "pprint(dopants)"
   ]
  },
  {
   "cell_type": "code",
   "execution_count": 34,
   "metadata": {},
   "outputs": [
    {
     "ename": "ValueError",
     "evalue": "the species Te2- is not allowed for the probability model you are using",
     "output_type": "error",
     "traceback": [
      "\u001b[0;31m---------------------------------------------------------------------------\u001b[0m",
      "\u001b[0;31mValueError\u001b[0m                                Traceback (most recent call last)",
      "Cell \u001b[0;32mIn[34], line 2\u001b[0m\n\u001b[1;32m      1\u001b[0m threshold \u001b[38;5;241m=\u001b[39m \u001b[38;5;241m0.001\u001b[39m  \u001b[38;5;66;03m# probability threshold for substitution/structure predictions\u001b[39;00m\n\u001b[0;32m----> 2\u001b[0m dopants \u001b[38;5;241m=\u001b[39m \u001b[43mget_dopants_from_substitution_probabilities\u001b[49m\u001b[43m(\u001b[49m\n\u001b[1;32m      3\u001b[0m \u001b[43m    \u001b[49m\u001b[43mstructure\u001b[49m\u001b[43m,\u001b[49m\u001b[43m \u001b[49m\u001b[43mnum_dopants\u001b[49m\u001b[38;5;241;43m=\u001b[39;49m\u001b[43mnum_dopants\u001b[49m\u001b[43m,\u001b[49m\u001b[43m \u001b[49m\u001b[43mthreshold\u001b[49m\u001b[38;5;241;43m=\u001b[39;49m\u001b[43mthreshold\u001b[49m\n\u001b[1;32m      4\u001b[0m \u001b[43m)\u001b[49m\n\u001b[1;32m      6\u001b[0m \u001b[38;5;66;03m#pprint(dopants)\u001b[39;00m\n\u001b[1;32m      7\u001b[0m dopants\n",
      "File \u001b[0;32m~/miniconda3/envs/cava/lib/python3.10/site-packages/pymatgen/analysis/structure_prediction/dopant_predictor.py:45\u001b[0m, in \u001b[0;36mget_dopants_from_substitution_probabilities\u001b[0;34m(structure, num_dopants, threshold, match_oxi_sign)\u001b[0m\n\u001b[1;32m     41\u001b[0m     \u001b[38;5;28;01mraise\u001b[39;00m \u001b[38;5;167;01mValueError\u001b[39;00m(\u001b[38;5;124m\"\u001b[39m\u001b[38;5;124mAll sites in structure must have oxidation states to predict dopants.\u001b[39m\u001b[38;5;124m\"\u001b[39m)\n\u001b[1;32m     43\u001b[0m sp \u001b[38;5;241m=\u001b[39m SubstitutionPredictor(threshold\u001b[38;5;241m=\u001b[39mthreshold)\n\u001b[0;32m---> 45\u001b[0m subs \u001b[38;5;241m=\u001b[39m [sp\u001b[38;5;241m.\u001b[39mlist_prediction([s]) \u001b[38;5;28;01mfor\u001b[39;00m s \u001b[38;5;129;01min\u001b[39;00m \u001b[38;5;28mset\u001b[39m(structure\u001b[38;5;241m.\u001b[39mspecies)]\n\u001b[1;32m     46\u001b[0m subs \u001b[38;5;241m=\u001b[39m [\n\u001b[1;32m     47\u001b[0m     {\n\u001b[1;32m     48\u001b[0m         \u001b[38;5;124m\"\u001b[39m\u001b[38;5;124mprobability\u001b[39m\u001b[38;5;124m\"\u001b[39m: pred[\u001b[38;5;124m\"\u001b[39m\u001b[38;5;124mprobability\u001b[39m\u001b[38;5;124m\"\u001b[39m],\n\u001b[0;32m   (...)\u001b[0m\n\u001b[1;32m     53\u001b[0m     \u001b[38;5;28;01mfor\u001b[39;00m pred \u001b[38;5;129;01min\u001b[39;00m species_preds\n\u001b[1;32m     54\u001b[0m ]\n\u001b[1;32m     55\u001b[0m subs\u001b[38;5;241m.\u001b[39msort(key\u001b[38;5;241m=\u001b[39m\u001b[38;5;28;01mlambda\u001b[39;00m x: x[\u001b[38;5;124m\"\u001b[39m\u001b[38;5;124mprobability\u001b[39m\u001b[38;5;124m\"\u001b[39m], reverse\u001b[38;5;241m=\u001b[39m\u001b[38;5;28;01mTrue\u001b[39;00m)\n",
      "File \u001b[0;32m~/miniconda3/envs/cava/lib/python3.10/site-packages/pymatgen/analysis/structure_prediction/dopant_predictor.py:45\u001b[0m, in \u001b[0;36m<listcomp>\u001b[0;34m(.0)\u001b[0m\n\u001b[1;32m     41\u001b[0m     \u001b[38;5;28;01mraise\u001b[39;00m \u001b[38;5;167;01mValueError\u001b[39;00m(\u001b[38;5;124m\"\u001b[39m\u001b[38;5;124mAll sites in structure must have oxidation states to predict dopants.\u001b[39m\u001b[38;5;124m\"\u001b[39m)\n\u001b[1;32m     43\u001b[0m sp \u001b[38;5;241m=\u001b[39m SubstitutionPredictor(threshold\u001b[38;5;241m=\u001b[39mthreshold)\n\u001b[0;32m---> 45\u001b[0m subs \u001b[38;5;241m=\u001b[39m [\u001b[43msp\u001b[49m\u001b[38;5;241;43m.\u001b[39;49m\u001b[43mlist_prediction\u001b[49m\u001b[43m(\u001b[49m\u001b[43m[\u001b[49m\u001b[43ms\u001b[49m\u001b[43m]\u001b[49m\u001b[43m)\u001b[49m \u001b[38;5;28;01mfor\u001b[39;00m s \u001b[38;5;129;01min\u001b[39;00m \u001b[38;5;28mset\u001b[39m(structure\u001b[38;5;241m.\u001b[39mspecies)]\n\u001b[1;32m     46\u001b[0m subs \u001b[38;5;241m=\u001b[39m [\n\u001b[1;32m     47\u001b[0m     {\n\u001b[1;32m     48\u001b[0m         \u001b[38;5;124m\"\u001b[39m\u001b[38;5;124mprobability\u001b[39m\u001b[38;5;124m\"\u001b[39m: pred[\u001b[38;5;124m\"\u001b[39m\u001b[38;5;124mprobability\u001b[39m\u001b[38;5;124m\"\u001b[39m],\n\u001b[0;32m   (...)\u001b[0m\n\u001b[1;32m     53\u001b[0m     \u001b[38;5;28;01mfor\u001b[39;00m pred \u001b[38;5;129;01min\u001b[39;00m species_preds\n\u001b[1;32m     54\u001b[0m ]\n\u001b[1;32m     55\u001b[0m subs\u001b[38;5;241m.\u001b[39msort(key\u001b[38;5;241m=\u001b[39m\u001b[38;5;28;01mlambda\u001b[39;00m x: x[\u001b[38;5;124m\"\u001b[39m\u001b[38;5;124mprobability\u001b[39m\u001b[38;5;124m\"\u001b[39m], reverse\u001b[38;5;241m=\u001b[39m\u001b[38;5;28;01mTrue\u001b[39;00m)\n",
      "File \u001b[0;32m~/miniconda3/envs/cava/lib/python3.10/site-packages/pymatgen/analysis/structure_prediction/substitution_probability.py:217\u001b[0m, in \u001b[0;36mSubstitutionPredictor.list_prediction\u001b[0;34m(self, species, to_this_composition)\u001b[0m\n\u001b[1;32m    215\u001b[0m \u001b[38;5;28;01mfor\u001b[39;00m sp \u001b[38;5;129;01min\u001b[39;00m species:\n\u001b[1;32m    216\u001b[0m     \u001b[38;5;28;01mif\u001b[39;00m get_el_sp(sp) \u001b[38;5;129;01mnot\u001b[39;00m \u001b[38;5;129;01min\u001b[39;00m \u001b[38;5;28mself\u001b[39m\u001b[38;5;241m.\u001b[39mp\u001b[38;5;241m.\u001b[39mspecies:\n\u001b[0;32m--> 217\u001b[0m         \u001b[38;5;28;01mraise\u001b[39;00m \u001b[38;5;167;01mValueError\u001b[39;00m(\u001b[38;5;124mf\u001b[39m\u001b[38;5;124m\"\u001b[39m\u001b[38;5;124mthe species \u001b[39m\u001b[38;5;132;01m{\u001b[39;00msp\u001b[38;5;132;01m}\u001b[39;00m\u001b[38;5;124m is not allowed for the probability model you are using\u001b[39m\u001b[38;5;124m\"\u001b[39m)\n\u001b[1;32m    218\u001b[0m max_probabilities \u001b[38;5;241m=\u001b[39m []\n\u001b[1;32m    219\u001b[0m \u001b[38;5;28;01mfor\u001b[39;00m s1 \u001b[38;5;129;01min\u001b[39;00m species:\n",
      "\u001b[0;31mValueError\u001b[0m: the species Te2- is not allowed for the probability model you are using"
     ]
    }
   ],
   "source": [
    "threshold = 0.001  # probability threshold for substitution/structure predictions\n",
    "dopants = get_dopants_from_substitution_probabilities(\n",
    "    structure, num_dopants=num_dopants, threshold=threshold\n",
    ")\n",
    "\n",
    "#pprint(dopants)\n",
    "dopants"
   ]
  }
 ],
 "metadata": {
  "kernelspec": {
   "display_name": "cava",
   "language": "python",
   "name": "python3"
  },
  "language_info": {
   "codemirror_mode": {
    "name": "ipython",
    "version": 3
   },
   "file_extension": ".py",
   "mimetype": "text/x-python",
   "name": "python",
   "nbconvert_exporter": "python",
   "pygments_lexer": "ipython3",
   "version": "3.10.13"
  }
 },
 "nbformat": 4,
 "nbformat_minor": 2
}
