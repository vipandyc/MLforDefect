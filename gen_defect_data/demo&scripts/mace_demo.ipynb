{
 "cells": [
  {
   "cell_type": "markdown",
   "metadata": {},
   "source": [
    "Demo for MACE-MP0 running structures."
   ]
  },
  {
   "cell_type": "markdown",
   "metadata": {},
   "source": [
    "Clean data first. This is a small demo, filter 7 out of 24."
   ]
  },
  {
   "cell_type": "code",
   "execution_count": 1,
   "metadata": {},
   "outputs": [
    {
     "data": {
      "text/plain": [
       "4282"
      ]
     },
     "execution_count": 1,
     "metadata": {},
     "output_type": "execute_result"
    }
   ],
   "source": [
    "import pandas as pd\n",
    "import re\n",
    "\n",
    "# Load the CSV file into a DataFrame\n",
    "df = pd.read_csv(\"../Defect_combinations.csv\")\n",
    "\n",
    "atomic_numbers = {\n",
    "    'H': 1, 'He': 2, 'Li': 3, 'Be': 4, 'B': 5, 'C': 6, 'N': 7, 'O': 8, 'F': 9, 'Ne': 10,\n",
    "    'Na': 11, 'Mg': 12, 'Al': 13, 'Si': 14, 'P': 15, 'S': 16, 'Cl': 17, 'Ar': 18,\n",
    "    'K': 19, 'Ca': 20, 'Sc': 21, 'Ti': 22, 'V': 23, 'Cr': 24, 'Mn': 25, 'Fe': 26,\n",
    "    'Co': 27, 'Ni': 28, 'Cu': 29, 'Zn': 30, 'Ga': 31, 'Ge': 32, 'As': 33, 'Se': 34,\n",
    "    'Br': 35, 'Kr': 36, 'Rb': 37, 'Sr': 38, 'Y': 39, 'Zr': 40, 'Nb': 41, 'Mo': 42,\n",
    "    'Tc': 43, 'Ru': 44, 'Rh': 45, 'Pd': 46, 'Ag': 47, 'Cd': 48, 'In': 49, 'Sn': 50,\n",
    "    'Sb': 51, 'Te': 52, 'I': 53, 'Xe': 54, 'Cs': 55, 'Ba': 56\n",
    "}\n",
    "\n",
    "# Function to extract elements and filter based on atomic number\n",
    "def filter_by_atomic_number(crystal):\n",
    "    # Extract the chemical formula (part before the underscore)\n",
    "    formula = crystal.split('_')[0]\n",
    "    # Find all element symbols using regex\n",
    "    elements = re.findall(r'[A-Z][a-z]?', formula)\n",
    "    # Check if any element has an atomic number > 53\n",
    "    return all(element in atomic_numbers for element in elements)\n",
    "\n",
    "def extract_element(species_string):\n",
    "    # Use regex to find the element symbol\n",
    "    return re.findall(r\"Species ([A-Z][a-z]?)\", species_string)\n",
    "\n",
    "# Filter rows where doping columns do not contain \"None\"\n",
    "df = df[\n",
    "    ~df[\"n_dopant\"].str.contains(\"None\") &\n",
    "    ~df[\"n_original\"].str.contains(\"None\") &\n",
    "    ~df[\"p_dopant\"].str.contains(\"None\") &\n",
    "    ~df[\"p_original\"].str.contains(\"None\")\n",
    "]\n",
    "df[\"n_dopant\"] = df[\"n_dopant\"].apply(extract_element)\n",
    "df[\"n_original\"] = df[\"n_original\"].apply(extract_element)\n",
    "df[\"p_dopant\"] = df[\"p_dopant\"].apply(extract_element)\n",
    "df[\"p_original\"] = df[\"p_original\"].apply(extract_element)\n",
    "\n",
    "# Filter rows based on atomic number\n",
    "filtered_df = df[df[\"Crystal\"].apply(filter_by_atomic_number)]\n",
    "len(filtered_df)"
   ]
  },
  {
   "cell_type": "markdown",
   "metadata": {},
   "source": [
    "Best way to expand supercell"
   ]
  },
  {
   "cell_type": "code",
   "execution_count": 8,
   "metadata": {},
   "outputs": [
    {
     "name": "stdout",
     "output_type": "stream",
     "text": [
      "N=2, x=6, y=6, z=6, product=432\n",
      "N=3, x=5, y=5, z=5, product=375\n",
      "N=4, x=5, y=5, z=5, product=500\n",
      "N=5, x=5, y=5, z=4, product=500\n",
      "N=6, x=4, y=4, z=4, product=384\n",
      "N=7, x=4, y=4, z=4, product=448\n",
      "N=8, x=4, y=4, z=3, product=384\n",
      "N=9, x=4, y=4, z=3, product=432\n",
      "N=10, x=4, y=4, z=3, product=480\n",
      "N=11, x=4, y=3, z=3, product=396\n",
      "N=12, x=4, y=3, z=3, product=432\n",
      "N=13, x=3, y=3, z=3, product=351\n",
      "N=14, x=3, y=3, z=3, product=378\n",
      "N=15, x=3, y=3, z=3, product=405\n",
      "N=16, x=3, y=3, z=3, product=432\n",
      "N=17, x=3, y=3, z=3, product=459\n",
      "N=18, x=3, y=3, z=3, product=486\n",
      "N=19, x=3, y=3, z=2, product=342\n",
      "N=20, x=3, y=3, z=2, product=360\n",
      "N=21, x=3, y=3, z=2, product=378\n",
      "N=22, x=3, y=3, z=2, product=396\n",
      "N=23, x=3, y=3, z=2, product=414\n",
      "N=24, x=3, y=3, z=2, product=432\n",
      "N=25, x=3, y=3, z=2, product=450\n"
     ]
    }
   ],
   "source": [
    "def find_closest_factors(N, target_range=(333, 500)):\n",
    "    target_min, target_max = target_range\n",
    "    # Start with cube root approximation for balanced factors\n",
    "    base = int((target_max / N) ** (1/3)) + 1\n",
    "    best_combination = None\n",
    "    smallest_deviation = float('inf')\n",
    "\n",
    "    for x in range(base, 0, -1):\n",
    "        for y in range(x, 0, -1):  # Ensure y ≤ x\n",
    "            for z in range(y, 0, -1):  # Ensure z ≤ y\n",
    "                product = N * x * y * z\n",
    "                if target_min <= product <= target_max:\n",
    "                    # Compute deviation as the sum of absolute differences\n",
    "                    deviation = abs(x - y) + abs(y - z) + abs(z - x)\n",
    "                    if deviation < smallest_deviation:\n",
    "                        smallest_deviation = deviation\n",
    "                        best_combination = (x, y, z, product)\n",
    "\n",
    "    return best_combination\n",
    "\n",
    "# Iterate through N values and find the closest x, y, z\n",
    "for N in range(2, 26):\n",
    "    result = find_closest_factors(N)\n",
    "    if result:\n",
    "        x, y, z, product = result\n",
    "        print(f\"N={N}, x={x}, y={y}, z={z}, product={product}\")\n",
    "    else:\n",
    "        print(f\"No valid combination for N={N}\")\n"
   ]
  },
  {
   "cell_type": "code",
   "execution_count": 9,
   "metadata": {},
   "outputs": [
    {
     "data": {
      "text/plain": [
       "{'O': ['F', 'Cl'],\n",
       " 'Cd': ['Na', 'Ge'],\n",
       " 'Ti': ['Ta', 'Na', 'Zn', 'Nb', 'Mn', 'Mg']}"
      ]
     },
     "execution_count": 9,
     "metadata": {},
     "output_type": "execute_result"
    }
   ],
   "source": [
    "import json\n",
    "import re\n",
    "\n",
    "def combinations(input_file):\n",
    "    row = filtered_df[filtered_df[\"Crystal\"] == input_file]\n",
    "    \n",
    "    if row.empty:\n",
    "        raise ValueError(f\"No entry found for crystal structure {input_file}.\")\n",
    "    \n",
    "    # Extract dopants and originals\n",
    "    n_dopant = row[\"n_dopant\"].iloc[0]\n",
    "    n_original = row[\"n_original\"].iloc[0]\n",
    "    p_dopant = row[\"p_dopant\"].iloc[0]\n",
    "    p_original = row[\"p_original\"].iloc[0]\n",
    "    actions = {}\n",
    "    for i in range(len(n_dopant)):\n",
    "        if n_original[i] not in actions:\n",
    "            actions[n_original[i]] = []\n",
    "        actions[n_original[i]].append(n_dopant[i])\n",
    "        if p_original[i] not in actions:\n",
    "            actions[p_original[i]] = []\n",
    "        actions[p_original[i]].append(p_dopant[i])\n",
    "    return actions\n",
    "\n",
    "combinations('Cd1O3Ti1_262708.json')"
   ]
  },
  {
   "cell_type": "markdown",
   "metadata": {},
   "source": [
    "load MACE-MP workflow"
   ]
  },
  {
   "cell_type": "code",
   "execution_count": 10,
   "metadata": {},
   "outputs": [
    {
     "data": {
      "text/plain": [
       "'\\n    # Create calculator\\n    calc = mace_mp(model=\"medium\", dispersion=False, default_dtype=\"float64\", device=\\'cuda\\')\\n\\n    # Assign calculator and perform relaxation\\n    supercell.calc = calc\\n    dyn = BFGS(supercell)\\n    dyn.run(fmax=0.05)\\n\\n    # Run vibrational analysis\\n    vib = Vibrations(supercell, name=\"vib_pristine\")\\n    vib.clean()\\n    vib.run()\\n\\n    # Extract and save eigenvalues\\n    eigenvalues = vib.get_energies()\\n    np.savetxt(\"pristine_eigenvalues.txt\", eigenvalues)\\n\\n    print(\"Phonon DOS eigenvalues have been saved to \\'pristine_eigenvalues.txt\\'.\")\\n    vib.summary()\\n    vib.clean()'"
      ]
     },
     "execution_count": 10,
     "metadata": {},
     "output_type": "execute_result"
    }
   ],
   "source": [
    "import numpy as np\n",
    "from ase import Atoms\n",
    "from ase.optimize import BFGS\n",
    "from ase.vibrations import Vibrations\n",
    "from mace.calculators import mace_mp\n",
    "import json\n",
    "from ase.io import read\n",
    "\n",
    "def run_MACE(input_file, vacancy_ratio=0.01, doping_ratio=0.01):\n",
    "    # Load the JSON file and extract the POSCAR string\n",
    "    with open('../SM_dataset/'+input_file, 'r') as f:\n",
    "        data = json.load(f)\n",
    "    \n",
    "    poscar_content = data.get(\"Structure_rlx\")\n",
    "    with open(\"temp_poscar.vasp\", 'w') as temp_file:\n",
    "        temp_file.write(poscar_content)\n",
    "    try:\n",
    "        atoms = read(\"temp_poscar.vasp\")\n",
    "    except Exception: # error reading?\n",
    "        return None\n",
    "\n",
    "    # Calculate the number of atoms and determine scaling factor for ~400-500 atoms\n",
    "    num_atoms = len(atoms)\n",
    "    x, y, z, product = find_closest_factors(num_atoms, target_range=(333, 500))\n",
    "    assert 333 <= product <= 500, 'Invalid supercell!'\n",
    "    supercell = atoms * (x, y, z)\n",
    "    chem_formula_pristine = supercell.get_chemical_formula()\n",
    "\n",
    "    # Then dope it\n",
    "    # Apply vacancies\n",
    "    num_to_remove = int(vacancy_ratio * len(supercell))\n",
    "    num_to_dope = int(doping_ratio * len(supercell))\n",
    "\n",
    "    indices_to_remove = np.random.choice(len(supercell), num_to_remove, replace=False)\n",
    "    indices_to_remove = sorted(indices_to_remove, reverse=True)\n",
    "    for index in indices_to_remove:\n",
    "        del supercell[index]\n",
    "    \n",
    "    actions = combinations(input_file)\n",
    "\n",
    "    # Apply doping with one-to-one mapping for substitutions\n",
    "    indices_to_dope = np.random.choice(len(supercell), num_to_dope, replace=False)\n",
    "    doping_pairs = []\n",
    "    for i in indices_to_dope:\n",
    "        if supercell[i].symbol in actions:\n",
    "            doping_pairs.append((supercell[i].symbol, np.random.choice(actions[supercell[i].symbol])))\n",
    "\n",
    "    for index, (original, substitute) in zip(indices_to_dope, doping_pairs):\n",
    "        if substitute not in atomic_numbers:\n",
    "            continue\n",
    "        # print(f\"Substituting {original} at index {index} with {substitute}\")\n",
    "        supercell[index].symbol = substitute\n",
    "\n",
    "    print(f\"Number of atoms after doping: {len(supercell)}\")\n",
    "    chem_formula_defect = supercell.get_chemical_formula()\n",
    "    print(f\"Chemical Formula: {chem_formula_defect}\")\n",
    "'''\n",
    "    # Create calculator\n",
    "    calc = mace_mp(model=\"medium\", dispersion=False, default_dtype=\"float64\", device='cuda')\n",
    "\n",
    "    # Assign calculator and perform relaxation\n",
    "    supercell.calc = calc\n",
    "    dyn = BFGS(supercell)\n",
    "    dyn.run(fmax=0.05)\n",
    "\n",
    "    # Run vibrational analysis\n",
    "    vib = Vibrations(supercell, name=\"vib_pristine\")\n",
    "    vib.clean()\n",
    "    vib.run()\n",
    "\n",
    "    # Extract and save eigenvalues\n",
    "    eigenvalues = vib.get_energies()\n",
    "    np.savetxt(\"pristine_eigenvalues.txt\", eigenvalues)\n",
    "\n",
    "    print(\"Phonon DOS eigenvalues have been saved to 'pristine_eigenvalues.txt'.\")\n",
    "    vib.summary()\n",
    "    vib.clean()'''\n"
   ]
  },
  {
   "cell_type": "code",
   "execution_count": 11,
   "metadata": {},
   "outputs": [],
   "source": [
    "'''for file in filtered_df['Crystal']:\n",
    "    run_MACE(file)'''\n",
    "run_MACE('D1Fe1O2_109041.json')"
   ]
  }
 ],
 "metadata": {
  "kernelspec": {
   "display_name": "mlip",
   "language": "python",
   "name": "python3"
  },
  "language_info": {
   "codemirror_mode": {
    "name": "ipython",
    "version": 3
   },
   "file_extension": ".py",
   "mimetype": "text/x-python",
   "name": "python",
   "nbconvert_exporter": "python",
   "pygments_lexer": "ipython3",
   "version": "3.10.15"
  }
 },
 "nbformat": 4,
 "nbformat_minor": 2
}
