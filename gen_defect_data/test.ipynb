{
 "cells": [
  {
   "cell_type": "code",
   "execution_count": null,
   "metadata": {},
   "outputs": [
    {
     "name": "stdout",
     "output_type": "stream",
     "text": [
      "555\n"
     ]
    }
   ],
   "source": [
    "import numpy as np\n",
    "\n",
    "A = np.array([1, 2, 3])\n",
    "np.random.seed(42)\n",
    "lst = np.arange(4000)\n",
    "np.random.shuffle(lst)\n",
    "# 20*200\n",
    "output = lst.reshape((-1, 200))\n",
    "#np.save('Simulation_batch_indices.npy', output)\n",
    "\n",
    "print(output[0][0])"
   ]
  },
  {
   "cell_type": "code",
   "execution_count": null,
   "metadata": {},
   "outputs": [],
   "source": [
    "import pandas as pd\n",
    "import re\n",
    "import argparse\n",
    "# Load the CSV file into a DataFrame\n",
    "df = pd.read_csv(\"Defect_combinations.csv\")\n",
    "\n",
    "atomic_numbers = {\n",
    "    'H': 1, 'He': 2, 'Li': 3, 'Be': 4, 'B': 5, 'C': 6, 'N': 7, 'O': 8, 'F': 9, 'Ne': 10,\n",
    "    'Na': 11, 'Mg': 12, 'Al': 13, 'Si': 14, 'P': 15, 'S': 16, 'Cl': 17, 'Ar': 18,\n",
    "    'K': 19, 'Ca': 20, 'Sc': 21, 'Ti': 22, 'V': 23, 'Cr': 24, 'Mn': 25, 'Fe': 26,\n",
    "    'Co': 27, 'Ni': 28, 'Cu': 29, 'Zn': 30, 'Ga': 31, 'Ge': 32, 'As': 33, 'Se': 34,\n",
    "    'Br': 35, 'Kr': 36, 'Rb': 37, 'Sr': 38, 'Y': 39, 'Zr': 40, 'Nb': 41, 'Mo': 42,\n",
    "    'Tc': 43, 'Ru': 44, 'Rh': 45, 'Pd': 46, 'Ag': 47, 'Cd': 48, 'In': 49, 'Sn': 50,\n",
    "    'Sb': 51, 'Te': 52, 'I': 53, 'Xe': 54, 'Cs': 55, 'Ba': 56\n",
    "}\n",
    "\n",
    "# Function to extract elements and filter based on atomic number\n",
    "def filter_by_atomic_number(crystal):\n",
    "    # Extract the chemical formula (part before the underscore)\n",
    "    formula = crystal.split('_')[0]\n",
    "    # Find all element symbols using regex\n",
    "    elements = re.findall(r'[A-Z][a-z]?', formula)\n",
    "    # Check if any element has an atomic number > 53\n",
    "    return all(element in atomic_numbers for element in elements)\n",
    "\n",
    "def extract_element(species_string):\n",
    "    # Use regex to find the element symbol\n",
    "    return re.findall(r\"Species ([A-Z][a-z]?)\", species_string)\n",
    "\n",
    "# Filter rows where doping columns do not contain \"None\"\n",
    "df = df[\n",
    "    ~df[\"n_dopant\"].str.contains(\"None\") &\n",
    "    ~df[\"n_original\"].str.contains(\"None\") &\n",
    "    ~df[\"p_dopant\"].str.contains(\"None\") &\n",
    "    ~df[\"p_original\"].str.contains(\"None\")\n",
    "]\n",
    "df[\"n_dopant\"] = df[\"n_dopant\"].apply(extract_element)\n",
    "df[\"n_original\"] = df[\"n_original\"].apply(extract_element)\n",
    "df[\"p_dopant\"] = df[\"p_dopant\"].apply(extract_element)\n",
    "df[\"p_original\"] = df[\"p_original\"].apply(extract_element)\n",
    "\n",
    "# Filter rows based on atomic number\n",
    "filtered_df = df[df[\"Crystal\"].apply(filter_by_atomic_number)]\n",
    "\n",
    "#filtered_df.to_csv('Filtered_Defect_combinations.csv')"
   ]
  }
 ],
 "metadata": {
  "kernelspec": {
   "display_name": "mlip",
   "language": "python",
   "name": "python3"
  },
  "language_info": {
   "codemirror_mode": {
    "name": "ipython",
    "version": 3
   },
   "file_extension": ".py",
   "mimetype": "text/x-python",
   "name": "python",
   "nbconvert_exporter": "python",
   "pygments_lexer": "ipython3",
   "version": "3.10.15"
  }
 },
 "nbformat": 4,
 "nbformat_minor": 2
}
