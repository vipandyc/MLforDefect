{
 "cells": [
  {
   "cell_type": "code",
   "execution_count": 5,
   "metadata": {},
   "outputs": [
    {
     "data": {
      "text/plain": [
       "(array([0.00000000e+00+9.26762482e-06j, 2.77642994e-06+0.00000000e+00j,\n",
       "        9.61814258e-06+0.00000000e+00j, ...,\n",
       "        7.10919755e-02+0.00000000e+00j, 7.32969500e-02+0.00000000e+00j,\n",
       "        7.34866749e-02+0.00000000e+00j]),\n",
       "    i  j             formula  \\\n",
       " 0  1  0     H216Cl72Cu72N72   \n",
       " 1  1  1  H210Cl68Cu72N72O6S   \n",
       " 2  7  0  Ba54Cu108Se216Sn54   \n",
       " \n",
       "                                              eigvals  \\\n",
       " 0  [0.0025655160083666697j, 0.002565470580968907j...   \n",
       " 1  [0.0029597269039398806j, 0.001546093204193871j...   \n",
       " 2  [8.342751303574579e-06j, (2.193019266976052e-0...   \n",
       " \n",
       "                            dopant_options  \n",
       " 0                       {S, Se, Zn, O, F}  \n",
       " 1                       {S, Se, Zn, O, F}  \n",
       " 2  {Cs, Zn, Cu, N, Hg, Rb, K, Co, La, Ta}  )"
      ]
     },
     "execution_count": 5,
     "metadata": {},
     "output_type": "execute_result"
    }
   ],
   "source": [
    "import re\n",
    "import numpy as np\n",
    "import pandas as pd\n",
    "\n",
    "dat = pd.read_pickle('eigvals_data_2025-02-26.pkl')\n",
    "dat['eigvals'][3], dat.head(3)"
   ]
  }
 ],
 "metadata": {
  "kernelspec": {
   "display_name": "mlip",
   "language": "python",
   "name": "python3"
  },
  "language_info": {
   "codemirror_mode": {
    "name": "ipython",
    "version": 3
   },
   "file_extension": ".py",
   "mimetype": "text/x-python",
   "name": "python",
   "nbconvert_exporter": "python",
   "pygments_lexer": "ipython3",
   "version": "3.10.15"
  }
 },
 "nbformat": 4,
 "nbformat_minor": 2
}
